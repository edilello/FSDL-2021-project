{
  "nbformat": 4,
  "nbformat_minor": 0,
  "metadata": {
    "colab": {
      "name": "Text_Regression_For_Price_Prediction.ipynb",
      "provenance": [],
      "collapsed_sections": [],
      "toc_visible": true,
      "machine_shape": "hm"
    },
    "kernelspec": {
      "display_name": "Python 3",
      "name": "python3"
    },
    "language_info": {
      "name": "python"
    },
    "accelerator": "GPU"
  },
  "cells": [
    {
      "cell_type": "code",
      "metadata": {
        "colab": {
          "base_uri": "https://localhost:8080/"
        },
        "id": "kmNxwXMDbIjq",
        "outputId": "65fdacdf-0f41-4154-aaa5-e94c592e40b6"
      },
      "source": [
        "!nvidia-smi"
      ],
      "execution_count": 18,
      "outputs": [
        {
          "output_type": "stream",
          "text": [
            "Sun May 16 00:18:21 2021       \n",
            "+-----------------------------------------------------------------------------+\n",
            "| NVIDIA-SMI 465.19.01    Driver Version: 460.32.03    CUDA Version: 11.2     |\n",
            "|-------------------------------+----------------------+----------------------+\n",
            "| GPU  Name        Persistence-M| Bus-Id        Disp.A | Volatile Uncorr. ECC |\n",
            "| Fan  Temp  Perf  Pwr:Usage/Cap|         Memory-Usage | GPU-Util  Compute M. |\n",
            "|                               |                      |               MIG M. |\n",
            "|===============================+======================+======================|\n",
            "|   0  Tesla V100-SXM2...  Off  | 00000000:00:04.0 Off |                    0 |\n",
            "| N/A   45C    P0    41W / 300W |  10061MiB / 16160MiB |      0%      Default |\n",
            "|                               |                      |                  N/A |\n",
            "+-------------------------------+----------------------+----------------------+\n",
            "                                                                               \n",
            "+-----------------------------------------------------------------------------+\n",
            "| Processes:                                                                  |\n",
            "|  GPU   GI   CI        PID   Type   Process name                  GPU Memory |\n",
            "|        ID   ID                                                   Usage      |\n",
            "|=============================================================================|\n",
            "+-----------------------------------------------------------------------------+\n"
          ],
          "name": "stdout"
        }
      ]
    },
    {
      "cell_type": "code",
      "metadata": {
        "colab": {
          "base_uri": "https://localhost:8080/"
        },
        "id": "aeO766NWPb-7",
        "outputId": "3b2a225b-1cd6-4352-dde0-6c319633de73"
      },
      "source": [
        "!pip install transformers datasets"
      ],
      "execution_count": 19,
      "outputs": [
        {
          "output_type": "stream",
          "text": [
            "Requirement already satisfied: transformers in /usr/local/lib/python3.7/dist-packages (4.6.0)\n",
            "Requirement already satisfied: datasets in /usr/local/lib/python3.7/dist-packages (1.6.2)\n",
            "Requirement already satisfied: tokenizers<0.11,>=0.10.1 in /usr/local/lib/python3.7/dist-packages (from transformers) (0.10.2)\n",
            "Requirement already satisfied: numpy>=1.17 in /usr/local/lib/python3.7/dist-packages (from transformers) (1.19.5)\n",
            "Requirement already satisfied: importlib-metadata; python_version < \"3.8\" in /usr/local/lib/python3.7/dist-packages (from transformers) (4.0.1)\n",
            "Requirement already satisfied: huggingface-hub==0.0.8 in /usr/local/lib/python3.7/dist-packages (from transformers) (0.0.8)\n",
            "Requirement already satisfied: regex!=2019.12.17 in /usr/local/lib/python3.7/dist-packages (from transformers) (2019.12.20)\n",
            "Requirement already satisfied: tqdm>=4.27 in /usr/local/lib/python3.7/dist-packages (from transformers) (4.41.1)\n",
            "Requirement already satisfied: filelock in /usr/local/lib/python3.7/dist-packages (from transformers) (3.0.12)\n",
            "Requirement already satisfied: sacremoses in /usr/local/lib/python3.7/dist-packages (from transformers) (0.0.45)\n",
            "Requirement already satisfied: packaging in /usr/local/lib/python3.7/dist-packages (from transformers) (20.9)\n",
            "Requirement already satisfied: requests in /usr/local/lib/python3.7/dist-packages (from transformers) (2.23.0)\n",
            "Requirement already satisfied: pyarrow>=1.0.0<4.0.0 in /usr/local/lib/python3.7/dist-packages (from datasets) (3.0.0)\n",
            "Requirement already satisfied: dill in /usr/local/lib/python3.7/dist-packages (from datasets) (0.3.3)\n",
            "Requirement already satisfied: xxhash in /usr/local/lib/python3.7/dist-packages (from datasets) (2.0.2)\n",
            "Requirement already satisfied: pandas in /usr/local/lib/python3.7/dist-packages (from datasets) (1.1.5)\n",
            "Requirement already satisfied: multiprocess in /usr/local/lib/python3.7/dist-packages (from datasets) (0.70.11.1)\n",
            "Requirement already satisfied: fsspec in /usr/local/lib/python3.7/dist-packages (from datasets) (2021.5.0)\n",
            "Requirement already satisfied: zipp>=0.5 in /usr/local/lib/python3.7/dist-packages (from importlib-metadata; python_version < \"3.8\"->transformers) (3.4.1)\n",
            "Requirement already satisfied: typing-extensions>=3.6.4; python_version < \"3.8\" in /usr/local/lib/python3.7/dist-packages (from importlib-metadata; python_version < \"3.8\"->transformers) (3.7.4.3)\n",
            "Requirement already satisfied: six in /usr/local/lib/python3.7/dist-packages (from sacremoses->transformers) (1.15.0)\n",
            "Requirement already satisfied: click in /usr/local/lib/python3.7/dist-packages (from sacremoses->transformers) (8.0.0)\n",
            "Requirement already satisfied: joblib in /usr/local/lib/python3.7/dist-packages (from sacremoses->transformers) (1.0.1)\n",
            "Requirement already satisfied: pyparsing>=2.0.2 in /usr/local/lib/python3.7/dist-packages (from packaging->transformers) (2.4.7)\n",
            "Requirement already satisfied: chardet<4,>=3.0.2 in /usr/local/lib/python3.7/dist-packages (from requests->transformers) (3.0.4)\n",
            "Requirement already satisfied: urllib3!=1.25.0,!=1.25.1,<1.26,>=1.21.1 in /usr/local/lib/python3.7/dist-packages (from requests->transformers) (1.24.3)\n",
            "Requirement already satisfied: certifi>=2017.4.17 in /usr/local/lib/python3.7/dist-packages (from requests->transformers) (2020.12.5)\n",
            "Requirement already satisfied: idna<3,>=2.5 in /usr/local/lib/python3.7/dist-packages (from requests->transformers) (2.10)\n",
            "Requirement already satisfied: pytz>=2017.2 in /usr/local/lib/python3.7/dist-packages (from pandas->datasets) (2018.9)\n",
            "Requirement already satisfied: python-dateutil>=2.7.3 in /usr/local/lib/python3.7/dist-packages (from pandas->datasets) (2.8.1)\n"
          ],
          "name": "stdout"
        }
      ]
    },
    {
      "cell_type": "code",
      "metadata": {
        "id": "cItz8NDVEQRr"
      },
      "source": [
        "import sklearn\n",
        "import nltk\n",
        "import torch\n",
        "import torch.nn as nn\n",
        "import pandas as pd\n",
        "import numpy as np\n",
        "import tensorflow as tf\n",
        "\n",
        "from matplotlib import pyplot as plt\n",
        "from sklearn.model_selection import train_test_split\n",
        "from datasets import list_metrics, load_metric\n",
        "from transformers import AutoTokenizer, AutoModelForSequenceClassification, \\\n",
        "                            Trainer, TrainingArguments\n"
      ],
      "execution_count": 20,
      "outputs": []
    },
    {
      "cell_type": "markdown",
      "metadata": {
        "id": "NXBtaOQ1lPSq"
      },
      "source": [
        "Load data"
      ]
    },
    {
      "cell_type": "code",
      "metadata": {
        "id": "8x47tVvlETD_",
        "colab": {
          "base_uri": "https://localhost:8080/",
          "height": 428
        },
        "outputId": "1cb06a3f-4666-4f1a-e06e-5bbc56eb0d0d"
      },
      "source": [
        "country = 'PT'\n",
        "dataset = country+'_data_100k'\n",
        "df = pd.read_parquet('drive/MyDrive/data/EU_motors_data/'+country+'/'+dataset+'.parquet')\n",
        "df.head()"
      ],
      "execution_count": 21,
      "outputs": [
        {
          "output_type": "execute_result",
          "data": {
            "text/html": [
              "<div>\n",
              "<style scoped>\n",
              "    .dataframe tbody tr th:only-of-type {\n",
              "        vertical-align: middle;\n",
              "    }\n",
              "\n",
              "    .dataframe tbody tr th {\n",
              "        vertical-align: top;\n",
              "    }\n",
              "\n",
              "    .dataframe thead th {\n",
              "        text-align: right;\n",
              "    }\n",
              "</style>\n",
              "<table border=\"1\" class=\"dataframe\">\n",
              "  <thead>\n",
              "    <tr style=\"text-align: right;\">\n",
              "      <th></th>\n",
              "      <th>price_eval_sk</th>\n",
              "      <th>prediction</th>\n",
              "      <th>lower</th>\n",
              "      <th>higher</th>\n",
              "      <th>target_price</th>\n",
              "      <th>error</th>\n",
              "      <th>ape</th>\n",
              "      <th>pe</th>\n",
              "      <th>range_size_pct</th>\n",
              "      <th>set</th>\n",
              "      <th>description</th>\n",
              "      <th>is_business</th>\n",
              "      <th>string_features</th>\n",
              "      <th>error_type</th>\n",
              "    </tr>\n",
              "  </thead>\n",
              "  <tbody>\n",
              "    <tr>\n",
              "      <th>0</th>\n",
              "      <td>8082568918|PT|standvirtual</td>\n",
              "      <td>9675.700195</td>\n",
              "      <td>9188.767773</td>\n",
              "      <td>10162.632617</td>\n",
              "      <td>10999.0</td>\n",
              "      <td>-1323.299805</td>\n",
              "      <td>12.031092</td>\n",
              "      <td>-12.031092</td>\n",
              "      <td>10.065058</td>\n",
              "      <td>active</td>\n",
              "      <td>Viatura com histórico geral e livro de revisoe...</td>\n",
              "      <td>1.0</td>\n",
              "      <td>make is vw, model is tiguan, vehicle_year is 2...</td>\n",
              "      <td>0</td>\n",
              "    </tr>\n",
              "    <tr>\n",
              "      <th>1</th>\n",
              "      <td>8080279702|PT|standvirtual</td>\n",
              "      <td>15045.987305</td>\n",
              "      <td>14288.793945</td>\n",
              "      <td>15803.180664</td>\n",
              "      <td>17712.0</td>\n",
              "      <td>-2666.012695</td>\n",
              "      <td>15.052014</td>\n",
              "      <td>-15.052014</td>\n",
              "      <td>10.065054</td>\n",
              "      <td>train</td>\n",
              "      <td>Opel Insignia Sport Tourer 1.6 Cdti Selection ...</td>\n",
              "      <td>1.0</td>\n",
              "      <td>make is opel, model is insignia-sports-tourer,...</td>\n",
              "      <td>0</td>\n",
              "    </tr>\n",
              "    <tr>\n",
              "      <th>2</th>\n",
              "      <td>8081130761|PT|standvirtual</td>\n",
              "      <td>13085.506836</td>\n",
              "      <td>12426.975586</td>\n",
              "      <td>13744.038086</td>\n",
              "      <td>14500.0</td>\n",
              "      <td>-1414.493164</td>\n",
              "      <td>9.755125</td>\n",
              "      <td>-9.755125</td>\n",
              "      <td>10.065047</td>\n",
              "      <td>train</td>\n",
              "      <td>Veículo Nacional comprado novo com todos as re...</td>\n",
              "      <td>0.0</td>\n",
              "      <td>make is volvo, model is v40-cross-country, veh...</td>\n",
              "      <td>0</td>\n",
              "    </tr>\n",
              "    <tr>\n",
              "      <th>3</th>\n",
              "      <td>8082746155|PT|standvirtual</td>\n",
              "      <td>6840.919434</td>\n",
              "      <td>6496.648438</td>\n",
              "      <td>7185.190430</td>\n",
              "      <td>4999.0</td>\n",
              "      <td>1841.919434</td>\n",
              "      <td>36.845758</td>\n",
              "      <td>36.845758</td>\n",
              "      <td>10.065050</td>\n",
              "      <td>train</td>\n",
              "      <td>viatura proveniente de retoma\\r\\ngarantia de a...</td>\n",
              "      <td>1.0</td>\n",
              "      <td>make is lancia, model is musa, vehicle_year is...</td>\n",
              "      <td>1</td>\n",
              "    </tr>\n",
              "    <tr>\n",
              "      <th>4</th>\n",
              "      <td>8082544106|PT|standvirtual</td>\n",
              "      <td>13431.394531</td>\n",
              "      <td>12755.456055</td>\n",
              "      <td>14107.333008</td>\n",
              "      <td>13500.0</td>\n",
              "      <td>-68.605469</td>\n",
              "      <td>0.508189</td>\n",
              "      <td>-0.508189</td>\n",
              "      <td>10.065053</td>\n",
              "      <td>train</td>\n",
              "      <td>Toyota: Usados de Confiança. Mais Segurança, M...</td>\n",
              "      <td>1.0</td>\n",
              "      <td>make is toyota, model is yaris, vehicle_year i...</td>\n",
              "      <td>0</td>\n",
              "    </tr>\n",
              "  </tbody>\n",
              "</table>\n",
              "</div>"
            ],
            "text/plain": [
              "                price_eval_sk  ...  error_type\n",
              "0  8082568918|PT|standvirtual  ...           0\n",
              "1  8080279702|PT|standvirtual  ...           0\n",
              "2  8081130761|PT|standvirtual  ...           0\n",
              "3  8082746155|PT|standvirtual  ...           1\n",
              "4  8082544106|PT|standvirtual  ...           0\n",
              "\n",
              "[5 rows x 14 columns]"
            ]
          },
          "metadata": {
            "tags": []
          },
          "execution_count": 21
        }
      ]
    },
    {
      "cell_type": "code",
      "metadata": {
        "colab": {
          "base_uri": "https://localhost:8080/",
          "height": 69
        },
        "id": "8L1KSn5Zi38c",
        "outputId": "c32b3342-d05b-4daa-b5c3-58a515dd9ece"
      },
      "source": [
        "df['description'].iloc[2]"
      ],
      "execution_count": 22,
      "outputs": [
        {
          "output_type": "execute_result",
          "data": {
            "application/vnd.google.colaboratory.intrinsic+json": {
              "type": "string"
            },
            "text/plain": [
              "'Veículo Nacional comprado novo com todos as revisões e serviços efetuados na marca. Kms na sua quase totalidade feitos em auto estrada, sendo o motivo da venda necessidade de veículo maior com capacidade entre 7 a 9 lugares podendo aceitar retoma ou troca com essas características pagando a diferença.'"
            ]
          },
          "metadata": {
            "tags": []
          },
          "execution_count": 22
        }
      ]
    },
    {
      "cell_type": "code",
      "metadata": {
        "id": "LxSqC_HZfi9k"
      },
      "source": [
        "df['string_features_plus_description'] = df[['string_features', \n",
        "                                             'description']].apply(lambda row: ', '.join([row[0], row[1]]), axis=1)"
      ],
      "execution_count": 23,
      "outputs": []
    },
    {
      "cell_type": "code",
      "metadata": {
        "id": "5k0RpfKc9IOJ"
      },
      "source": [
        "problem_type = 'regression'"
      ],
      "execution_count": 24,
      "outputs": []
    },
    {
      "cell_type": "code",
      "metadata": {
        "colab": {
          "base_uri": "https://localhost:8080/"
        },
        "id": "XE8wV7NjEaRB",
        "outputId": "a6e8d246-91fe-4580-cf08-5810848fe298"
      },
      "source": [
        "model_name = 'neuralmind/bert-base-portuguese-cased'\n",
        "#model_name = 'bert-base-cased' # For price prediction using string features\n",
        "tokenizer = AutoTokenizer.from_pretrained(model_name)\n",
        "model = AutoModelForSequenceClassification.from_pretrained(model_name, num_labels=1)\n"
      ],
      "execution_count": 25,
      "outputs": [
        {
          "output_type": "stream",
          "text": [
            "Some weights of the model checkpoint at neuralmind/bert-base-portuguese-cased were not used when initializing BertForSequenceClassification: ['cls.predictions.transform.dense.weight', 'cls.predictions.transform.LayerNorm.weight', 'cls.predictions.decoder.weight', 'cls.predictions.transform.dense.bias', 'cls.predictions.transform.LayerNorm.bias', 'cls.seq_relationship.weight', 'cls.seq_relationship.bias', 'cls.predictions.bias']\n",
            "- This IS expected if you are initializing BertForSequenceClassification from the checkpoint of a model trained on another task or with another architecture (e.g. initializing a BertForSequenceClassification model from a BertForPreTraining model).\n",
            "- This IS NOT expected if you are initializing BertForSequenceClassification from the checkpoint of a model that you expect to be exactly identical (initializing a BertForSequenceClassification model from a BertForSequenceClassification model).\n",
            "Some weights of BertForSequenceClassification were not initialized from the model checkpoint at neuralmind/bert-base-portuguese-cased and are newly initialized: ['classifier.bias', 'classifier.weight']\n",
            "You should probably TRAIN this model on a down-stream task to be able to use it for predictions and inference.\n"
          ],
          "name": "stderr"
        }
      ]
    },
    {
      "cell_type": "markdown",
      "metadata": {
        "id": "_gH9h1sShyCI"
      },
      "source": [
        "### Define target and input features, filter outliers and split data in train/validation and test sets"
      ]
    },
    {
      "cell_type": "code",
      "metadata": {
        "id": "jC2LIczk82Gf"
      },
      "source": [
        "target = 'target_price'\n",
        "#target = 'pe'\n",
        "regressor = 'string_features'\n",
        "#regressor = 'string_features_plus_description'\n",
        "#regressor = 'description'\n",
        "\n",
        "num_ads_in_sample = len(df)\n",
        "df_sample = df.sample(num_ads_in_sample)\n",
        "df_sample.dropna(subset=[regressor, target], inplace=True)\n",
        "\n",
        "#remove outliers\n",
        "lower_quantile = df_sample[target].quantile(0.01)\n",
        "higher_quantile = df_sample[target].quantile(0.99)\n",
        "\n",
        "df_sample = df_sample[np.logical_and(df_sample[target] >= lower_quantile,  \n",
        "                                     df_sample[target] <= higher_quantile)]\n",
        "\n",
        "\n",
        "## Split into train and validation\n",
        "train, valid, test = np.split(df_sample.sample(frac=1, random_state=42),\n",
        "        [int(.7 * len(df_sample)), int(.9 * len(df_sample))])"
      ],
      "execution_count": 26,
      "outputs": []
    },
    {
      "cell_type": "code",
      "metadata": {
        "colab": {
          "base_uri": "https://localhost:8080/",
          "height": 306
        },
        "id": "0r7Dj867CKaF",
        "outputId": "ecf4eeaf-5f9e-4383-991f-22cc1293ea93"
      },
      "source": [
        "train[target].hist(bins=100)\n",
        "plt.xlabel(target, fontsize=18)"
      ],
      "execution_count": 27,
      "outputs": [
        {
          "output_type": "execute_result",
          "data": {
            "text/plain": [
              "Text(0.5, 0, 'target_price')"
            ]
          },
          "metadata": {
            "tags": []
          },
          "execution_count": 27
        },
        {
          "output_type": "display_data",
          "data": {
            "image/png": "[encoded data removed]",
            "text/plain": [
              "<Figure size 432x288 with 1 Axes>"
            ]
          },
          "metadata": {
            "tags": [],
            "needs_background": "light"
          }
        }
      ]
    },
    {
      "cell_type": "code",
      "metadata": {
        "id": "bng2-1r36K18"
      },
      "source": [
        "## Let's save our descriptions and labels into lists\n",
        "train_descs, train_labels = train[regressor].tolist(), train[target].tolist()\n",
        "valid_descs, valid_labels = valid[regressor].tolist(), valid[target].tolist()\n",
        "test_descs, test_labels = test[regressor].tolist(), test[target].tolist()\n",
        "\n",
        "## And encode with tokenizer\n",
        "MAX_LENGTH = 128\n",
        "train_encodings = tokenizer(train_descs, truncation=True, padding='max_length', max_length=MAX_LENGTH)\n",
        "val_encodings = tokenizer(valid_descs, truncation=True, padding='max_length', max_length=MAX_LENGTH)\n",
        "test_encodings = tokenizer(test_descs, truncation=True, padding='max_length', max_length=MAX_LENGTH)"
      ],
      "execution_count": 28,
      "outputs": []
    },
    {
      "cell_type": "code",
      "metadata": {
        "colab": {
          "base_uri": "https://localhost:8080/"
        },
        "id": "ubqfYod6tNRf",
        "outputId": "10dddf95-8d02-40ec-b748-ece54fb54b19"
      },
      "source": [
        "print(tokenizer.convert_ids_to_tokens(train_encodings['input_ids'][170]))\n",
        "print(train_labels[0])"
      ],
      "execution_count": 29,
      "outputs": [
        {
          "output_type": "stream",
          "text": [
            "['[CLS]', 'ma', '##ke', 'is', 'to', '##yo', '##ta', ',', 'model', 'is', 'y', '##ari', '##s', ',', 've', '##hi', '##cle', '_', 'y', '##e', '##ar', 'is', '2006', '.', '0', ',', 'mil', '##e', '##age', 'is', '165', '##000', '.', '0', ',', 'eng', '##ine', '_', 'capaci', '##ty', 'is', '1000', '.', '0', ',', 'eng', '##ine', '_', 'po', '##wer', 'is', '70', '.', '0', ',', 'ge', '##ar', '##box', 'is', 'manual', ',', 'fu', '##el', '_', 't', '##y', '##pe', 'is', 'ga', '##z', ',', 'dama', '##ge', '##d', 'is', '0', '.', '0', ',', 'is', '_', 'bus', '##iness', 'is', '1', '.', '0', ',', 'r', '##h', '##d', 'is', '0', '.', '0', ',', 'ac', '##ry', '##lic', 'is', 'na', '##n', ',', 'bo', '##dy', '_', 't', '##y', '##pe', 'is', 'ci', '##ty', '-', 'car', ',', 'color', 'is', 'bl', '##ac', '##k', ',', 'country', '_', 'orig', '##in', 'is', 'No', '[SEP]']\n",
            "15500.0\n"
          ],
          "name": "stdout"
        }
      ]
    },
    {
      "cell_type": "markdown",
      "metadata": {
        "id": "CvblGFKhdXCg"
      },
      "source": [
        "### Define a custom Dataset class, add max value seen in training as normalization constant"
      ]
    },
    {
      "cell_type": "code",
      "metadata": {
        "id": "1MdZvdQd6EST"
      },
      "source": [
        "class RegressionDataset(torch.utils.data.Dataset):\n",
        "    def __init__(self, encodings, labels, max_label):\n",
        "        self.encodings = encodings\n",
        "        self.max_value = max_label # keep track of normalization constant to be able to rescale values later\n",
        "        labels /= self.max_value # normalize target, based on max value in train set\n",
        "        labels = torch.tensor(labels, dtype=torch.float)\n",
        "        self.labels = torch.reshape(labels, [len(labels), 1] )\n",
        "        \n",
        "\n",
        "    def __getitem__(self, idx):\n",
        "        \n",
        "        # Encodings are dictionaries that include list of lists for the keys: \n",
        "        # 'input_ids', 'attention_mask', 'token_type_ids'\n",
        "        item = {key: torch.tensor(val[idx]) for key, val in self.encodings.items()}\n",
        "        item['labels'] = torch.tensor(self.labels[idx])\n",
        "        return item\n",
        "\n",
        "    def __len__(self):\n",
        "        return len(self.labels)\n"
      ],
      "execution_count": 30,
      "outputs": []
    },
    {
      "cell_type": "code",
      "metadata": {
        "colab": {
          "base_uri": "https://localhost:8080/"
        },
        "id": "HpTiZvIwQtZm",
        "outputId": "ec53280e-c3a4-4b5c-9cd1-838a7a5b9d0c"
      },
      "source": [
        "max_train_price = np.max(train_labels) \n",
        "print(max_train_price)\n",
        "\n",
        "train_dataset = RegressionDataset(train_encodings, train_labels, max_train_price)\n",
        "val_dataset = RegressionDataset(val_encodings, valid_labels, max_train_price)\n",
        "test_dataset = RegressionDataset(test_encodings, test_labels, max_train_price)"
      ],
      "execution_count": 31,
      "outputs": [
        {
          "output_type": "stream",
          "text": [
            "76500.0\n"
          ],
          "name": "stdout"
        }
      ]
    },
    {
      "cell_type": "code",
      "metadata": {
        "id": "RfEGCns2u5Ss"
      },
      "source": [
        "#BertForSequenceClassification.forward?"
      ],
      "execution_count": 32,
      "outputs": []
    },
    {
      "cell_type": "markdown",
      "metadata": {
        "id": "yuqQHvfWIWay"
      },
      "source": [
        "## Fine-tuning the model\n",
        "The Trainer class streamlines the training process and provides useful abstractions for quickly customize the training. Custom metrics asre defined for the regression problem."
      ]
    },
    {
      "cell_type": "markdown",
      "metadata": {
        "id": "kkSgg1jVIwue"
      },
      "source": [
        "\n",
        "## Training Arguments¶\n",
        "\n"
      ]
    },
    {
      "cell_type": "code",
      "metadata": {
        "id": "XtnfUBG5INfk"
      },
      "source": [
        "training_args = TrainingArguments(\n",
        "        output_dir=\"./results\",            \n",
        "        evaluation_strategy=\"epoch\",   \n",
        "        logging_steps=100,\n",
        "        num_train_epochs=4,                \n",
        "        per_device_train_batch_size=64,    \n",
        "        per_device_eval_batch_size=64,     \n",
        "        learning_rate=5e-05,                \n",
        "        max_grad_norm=1.0,                 \n",
        "        lr_scheduler_type='cosine_with_restarts',           \n",
        "        warmup_steps=100,               \n",
        "        load_best_model_at_end=True,\n",
        "        metric_for_best_model='mse',\n",
        "        seed=42\n",
        "    )\n",
        "\n",
        "def compute_metrics(eval_pred):\n",
        "    # Evaluation will return a tuple of (predictions and labels). Predictions will be the logit values.\n",
        "    predictions, labels = eval_pred\n",
        "    \n",
        "    # We argmax the prediction array to get the predicted classes\n",
        "    mse = np.mean((predictions - labels)**2)\n",
        "    rmse = mse**0.5\n",
        "    r_squared = sklearn.metrics.r2_score(predictions, labels)\n",
        "    mdape = np.median((np.abs((predictions - labels) / labels)) *100) \n",
        "\n",
        "    return {'mse': mse, 'rmse':rmse, 'r_squared':r_squared, 'mdape':mdape}\n",
        "\n",
        "trainer = Trainer(\n",
        "model=model,         \n",
        "args=training_args,                  \n",
        "train_dataset=train_dataset,\n",
        "eval_dataset=val_dataset,\n",
        "compute_metrics=compute_metrics,\n",
        "tokenizer=tokenizer\n",
        ")"
      ],
      "execution_count": 33,
      "outputs": []
    },
    {
      "cell_type": "code",
      "metadata": {
        "colab": {
          "base_uri": "https://localhost:8080/",
          "height": 430
        },
        "id": "jiZ-N0ODPXKd",
        "outputId": "16b4a360-183c-4498-88a4-83cbfd4f1c6c"
      },
      "source": [
        "trainer.train()\n"
      ],
      "execution_count": 34,
      "outputs": [
        {
          "output_type": "stream",
          "text": [
            "/usr/local/lib/python3.7/dist-packages/ipykernel_launcher.py:15: UserWarning: To copy construct from a tensor, it is recommended to use sourceTensor.clone().detach() or sourceTensor.clone().detach().requires_grad_(True), rather than torch.tensor(sourceTensor).\n",
            "  from ipykernel import kernelapp as app\n"
          ],
          "name": "stderr"
        },
        {
          "output_type": "display_data",
          "data": {
            "text/html": [
              "\n",
              "    <div>\n",
              "      \n",
              "      <progress value='1049' max='4292' style='width:300px; height:20px; vertical-align: middle;'></progress>\n",
              "      [1049/4292 10:52 < 33:41, 1.60 it/s, Epoch 0.98/4]\n",
              "    </div>\n",
              "    <table border=\"1\" class=\"dataframe\">\n",
              "  <thead>\n",
              "    <tr style=\"text-align: left;\">\n",
              "      <th>Epoch</th>\n",
              "      <th>Training Loss</th>\n",
              "      <th>Validation Loss</th>\n",
              "    </tr>\n",
              "  </thead>\n",
              "  <tbody>\n",
              "  </tbody>\n",
              "</table><p>"
            ],
            "text/plain": [
              "<IPython.core.display.HTML object>"
            ]
          },
          "metadata": {
            "tags": []
          }
        },
        {
          "output_type": "display_data",
          "data": {
            "text/html": [
              "\n",
              "    <div>\n",
              "      \n",
              "      <progress value='4292' max='4292' style='width:300px; height:20px; vertical-align: middle;'></progress>\n",
              "      [4292/4292 48:25, Epoch 4/4]\n",
              "    </div>\n",
              "    <table border=\"1\" class=\"dataframe\">\n",
              "  <thead>\n",
              "    <tr style=\"text-align: left;\">\n",
              "      <th>Epoch</th>\n",
              "      <th>Training Loss</th>\n",
              "      <th>Validation Loss</th>\n",
              "      <th>Mse</th>\n",
              "      <th>Rmse</th>\n",
              "      <th>R Squared</th>\n",
              "      <th>Mdape</th>\n",
              "    </tr>\n",
              "  </thead>\n",
              "  <tbody>\n",
              "    <tr>\n",
              "      <td>1</td>\n",
              "      <td>0.002800</td>\n",
              "      <td>0.002085</td>\n",
              "      <td>0.002085</td>\n",
              "      <td>0.045660</td>\n",
              "      <td>0.891269</td>\n",
              "      <td>10.046137</td>\n",
              "    </tr>\n",
              "    <tr>\n",
              "      <td>2</td>\n",
              "      <td>0.001800</td>\n",
              "      <td>0.001519</td>\n",
              "      <td>0.001519</td>\n",
              "      <td>0.038971</td>\n",
              "      <td>0.935293</td>\n",
              "      <td>8.082722</td>\n",
              "    </tr>\n",
              "    <tr>\n",
              "      <td>3</td>\n",
              "      <td>0.001500</td>\n",
              "      <td>0.001407</td>\n",
              "      <td>0.001407</td>\n",
              "      <td>0.037512</td>\n",
              "      <td>0.943555</td>\n",
              "      <td>8.609577</td>\n",
              "    </tr>\n",
              "    <tr>\n",
              "      <td>4</td>\n",
              "      <td>0.001200</td>\n",
              "      <td>0.001409</td>\n",
              "      <td>0.001409</td>\n",
              "      <td>0.037543</td>\n",
              "      <td>0.945497</td>\n",
              "      <td>8.494379</td>\n",
              "    </tr>\n",
              "  </tbody>\n",
              "</table><p>"
            ],
            "text/plain": [
              "<IPython.core.display.HTML object>"
            ]
          },
          "metadata": {
            "tags": []
          }
        },
        {
          "output_type": "stream",
          "text": [
            "/usr/local/lib/python3.7/dist-packages/ipykernel_launcher.py:15: UserWarning: To copy construct from a tensor, it is recommended to use sourceTensor.clone().detach() or sourceTensor.clone().detach().requires_grad_(True), rather than torch.tensor(sourceTensor).\n",
            "  from ipykernel import kernelapp as app\n",
            "/usr/local/lib/python3.7/dist-packages/ipykernel_launcher.py:15: UserWarning: To copy construct from a tensor, it is recommended to use sourceTensor.clone().detach() or sourceTensor.clone().detach().requires_grad_(True), rather than torch.tensor(sourceTensor).\n",
            "  from ipykernel import kernelapp as app\n",
            "/usr/local/lib/python3.7/dist-packages/ipykernel_launcher.py:15: UserWarning: To copy construct from a tensor, it is recommended to use sourceTensor.clone().detach() or sourceTensor.clone().detach().requires_grad_(True), rather than torch.tensor(sourceTensor).\n",
            "  from ipykernel import kernelapp as app\n"
          ],
          "name": "stderr"
        },
        {
          "output_type": "execute_result",
          "data": {
            "text/plain": [
              "TrainOutput(global_step=4292, training_loss=0.0026965654539317587, metrics={'train_runtime': 2906.0138, 'train_samples_per_second': 1.477, 'total_flos': 0, 'epoch': 4.0, 'init_mem_cpu_alloc_delta': 8192, 'init_mem_gpu_alloc_delta': 436447744, 'init_mem_cpu_peaked_delta': 0, 'init_mem_gpu_peaked_delta': 0, 'train_mem_cpu_alloc_delta': -481972224, 'train_mem_gpu_alloc_delta': 1313217024, 'train_mem_cpu_peaked_delta': 483774464, 'train_mem_gpu_peaked_delta': 7108658176})"
            ]
          },
          "metadata": {
            "tags": []
          },
          "execution_count": 34
        }
      ]
    },
    {
      "cell_type": "markdown",
      "metadata": {
        "id": "DV_dH29Ld8gQ"
      },
      "source": [
        "### Evaluate model on test set and visualize results"
      ]
    },
    {
      "cell_type": "code",
      "metadata": {
        "id": "f5q6LEDsPXzY",
        "colab": {
          "base_uri": "https://localhost:8080/",
          "height": 295
        },
        "outputId": "e2efda5a-fcf7-4593-d919-143bff5e957a"
      },
      "source": [
        "trainer.evaluate(test_dataset)"
      ],
      "execution_count": 35,
      "outputs": [
        {
          "output_type": "stream",
          "text": [
            "/usr/local/lib/python3.7/dist-packages/ipykernel_launcher.py:15: UserWarning: To copy construct from a tensor, it is recommended to use sourceTensor.clone().detach() or sourceTensor.clone().detach().requires_grad_(True), rather than torch.tensor(sourceTensor).\n",
            "  from ipykernel import kernelapp as app\n"
          ],
          "name": "stderr"
        },
        {
          "output_type": "display_data",
          "data": {
            "text/html": [
              "\n",
              "    <div>\n",
              "      \n",
              "      <progress value='154' max='154' style='width:300px; height:20px; vertical-align: middle;'></progress>\n",
              "      [154/154 00:26]\n",
              "    </div>\n",
              "    "
            ],
            "text/plain": [
              "<IPython.core.display.HTML object>"
            ]
          },
          "metadata": {
            "tags": []
          }
        },
        {
          "output_type": "execute_result",
          "data": {
            "text/plain": [
              "{'epoch': 4.0,\n",
              " 'eval_loss': 0.0018949030200019479,\n",
              " 'eval_mdape': 10.11136531829834,\n",
              " 'eval_mem_cpu_alloc_delta': 274432,\n",
              " 'eval_mem_cpu_peaked_delta': 0,\n",
              " 'eval_mem_gpu_alloc_delta': 0,\n",
              " 'eval_mem_gpu_peaked_delta': 277172736,\n",
              " 'eval_mse': 0.0018949030200019479,\n",
              " 'eval_r_squared': 0.8976376893045301,\n",
              " 'eval_rmse': 0.043530483801606755,\n",
              " 'eval_runtime': 26.4928,\n",
              " 'eval_samples_per_second': 370.138}"
            ]
          },
          "metadata": {
            "tags": []
          },
          "execution_count": 35
        }
      ]
    },
    {
      "cell_type": "code",
      "metadata": {
        "id": "dBsoXynYh4J6"
      },
      "source": [
        "res = trainer.predict(test_dataset)"
      ],
      "execution_count": null,
      "outputs": []
    },
    {
      "cell_type": "code",
      "metadata": {
        "id": "onrOMj3xBZpF",
        "colab": {
          "base_uri": "https://localhost:8080/",
          "height": 542
        },
        "outputId": "fec3e960-d7ae-42cc-b479-b684271b7c24"
      },
      "source": [
        "plt.figure(figsize=(20,10))\n",
        "plt.hist(res.predictions, color='r', alpha=0.3, label='predictions', bins=100)\n",
        "plt.hist(res.label_ids, color='b', alpha=0.3, label='true', bins=100)\n",
        "plt.legend(fontsize=16)\n",
        "plt.grid()\n",
        "plt.xlabel('normalized price', fontsize=18)\n",
        "plt.show()"
      ],
      "execution_count": 37,
      "outputs": [
        {
          "output_type": "display_data",
          "data": {
            "image/png": "[encoded data removed]",
            "text/plain": [
              "<Figure size 1440x720 with 1 Axes>"
            ]
          },
          "metadata": {
            "tags": [],
            "needs_background": "light"
          }
        }
      ]
    },
    {
      "cell_type": "code",
      "metadata": {
        "id": "AFQXjRHHh9xZ"
      },
      "source": [
        "from matplotlib import pyplot as plt"
      ],
      "execution_count": null,
      "outputs": []
    },
    {
      "cell_type": "code",
      "metadata": {
        "id": "5z15b0nriMCV",
        "colab": {
          "base_uri": "https://localhost:8080/",
          "height": 534
        },
        "outputId": "995f4bd1-d2bb-4805-a07f-ea8e4da4e9e5"
      },
      "source": [
        "plt.figure(figsize=(20,10))\n",
        "plt.plot(res.label_ids, res.predictions,  '*')\n",
        "plt.xlabel('Normalized true ' + target, fontsize=18)\n",
        "plt.ylabel('Normalized estimated ' + target, fontsize=18)\n",
        "plt.grid()\n",
        "\n",
        "plt.plot([0, 1], [0, 1], linewidth=8, alpha=0.4)\n",
        "plt.show()\n"
      ],
      "execution_count": 48,
      "outputs": [
        {
          "output_type": "display_data",
          "data": {
            "image/png": "[encoded data removed]",
            "text/plain": [
              "<Figure size 1440x720 with 1 Axes>"
            ]
          },
          "metadata": {
            "tags": [],
            "needs_background": "light"
          }
        }
      ]
    },
    {
      "cell_type": "code",
      "metadata": {
        "id": "Tc3SDWGtfmhi"
      },
      "source": [
        "res_df = pd.DataFrame(data = {'true':res.label_ids.squeeze()*train_dataset.max_value, \n",
        "                              'predicted':res.predictions.squeeze()*train_dataset.max_value,\n",
        "                              'string_features':test.string_features}, index=test.index)"
      ],
      "execution_count": 40,
      "outputs": []
    },
    {
      "cell_type": "code",
      "metadata": {
        "colab": {
          "base_uri": "https://localhost:8080/",
          "height": 297
        },
        "id": "Y4Sg_Xr-fz4b",
        "outputId": "e4c48ab2-2017-4b12-eebb-3279479d35b5"
      },
      "source": [
        "res_df['error'] = res_df['true'] - res_df['predicted']\n",
        "res_df['abs_error'] = np.abs(res_df['error'] )\n",
        "res_df['ape'] = np.abs(res_df['abs_error'] / res_df['true']) * 100\n",
        "res_df.describe()"
      ],
      "execution_count": 41,
      "outputs": [
        {
          "output_type": "execute_result",
          "data": {
            "text/html": [
              "<div>\n",
              "<style scoped>\n",
              "    .dataframe tbody tr th:only-of-type {\n",
              "        vertical-align: middle;\n",
              "    }\n",
              "\n",
              "    .dataframe tbody tr th {\n",
              "        vertical-align: top;\n",
              "    }\n",
              "\n",
              "    .dataframe thead th {\n",
              "        text-align: right;\n",
              "    }\n",
              "</style>\n",
              "<table border=\"1\" class=\"dataframe\">\n",
              "  <thead>\n",
              "    <tr style=\"text-align: right;\">\n",
              "      <th></th>\n",
              "      <th>true</th>\n",
              "      <th>predicted</th>\n",
              "      <th>error</th>\n",
              "      <th>abs_error</th>\n",
              "      <th>ape</th>\n",
              "    </tr>\n",
              "  </thead>\n",
              "  <tbody>\n",
              "    <tr>\n",
              "      <th>count</th>\n",
              "      <td>9806.000000</td>\n",
              "      <td>9806.000000</td>\n",
              "      <td>9806.000000</td>\n",
              "      <td>9806.000000</td>\n",
              "      <td>9806.000000</td>\n",
              "    </tr>\n",
              "    <tr>\n",
              "      <th>mean</th>\n",
              "      <td>17534.732422</td>\n",
              "      <td>17418.824219</td>\n",
              "      <td>115.758797</td>\n",
              "      <td>2193.081543</td>\n",
              "      <td>18.239491</td>\n",
              "    </tr>\n",
              "    <tr>\n",
              "      <th>std</th>\n",
              "      <td>11378.997070</td>\n",
              "      <td>10408.954102</td>\n",
              "      <td>3328.236816</td>\n",
              "      <td>2506.098145</td>\n",
              "      <td>29.484737</td>\n",
              "    </tr>\n",
              "    <tr>\n",
              "      <th>min</th>\n",
              "      <td>1500.000000</td>\n",
              "      <td>2534.164307</td>\n",
              "      <td>-22468.046875</td>\n",
              "      <td>0.017578</td>\n",
              "      <td>0.000208</td>\n",
              "    </tr>\n",
              "    <tr>\n",
              "      <th>25%</th>\n",
              "      <td>9990.000000</td>\n",
              "      <td>10977.935547</td>\n",
              "      <td>-1543.817871</td>\n",
              "      <td>700.467285</td>\n",
              "      <td>4.631221</td>\n",
              "    </tr>\n",
              "    <tr>\n",
              "      <th>50%</th>\n",
              "      <td>14990.000000</td>\n",
              "      <td>14936.462891</td>\n",
              "      <td>-151.525146</td>\n",
              "      <td>1503.379883</td>\n",
              "      <td>10.111364</td>\n",
              "    </tr>\n",
              "    <tr>\n",
              "      <th>75%</th>\n",
              "      <td>21900.000000</td>\n",
              "      <td>20981.541504</td>\n",
              "      <td>1448.256592</td>\n",
              "      <td>2764.322021</td>\n",
              "      <td>19.107708</td>\n",
              "    </tr>\n",
              "    <tr>\n",
              "      <th>max</th>\n",
              "      <td>76500.000000</td>\n",
              "      <td>69595.359375</td>\n",
              "      <td>39539.679688</td>\n",
              "      <td>39539.679688</td>\n",
              "      <td>478.142212</td>\n",
              "    </tr>\n",
              "  </tbody>\n",
              "</table>\n",
              "</div>"
            ],
            "text/plain": [
              "               true     predicted         error     abs_error          ape\n",
              "count   9806.000000   9806.000000   9806.000000   9806.000000  9806.000000\n",
              "mean   17534.732422  17418.824219    115.758797   2193.081543    18.239491\n",
              "std    11378.997070  10408.954102   3328.236816   2506.098145    29.484737\n",
              "min     1500.000000   2534.164307 -22468.046875      0.017578     0.000208\n",
              "25%     9990.000000  10977.935547  -1543.817871    700.467285     4.631221\n",
              "50%    14990.000000  14936.462891   -151.525146   1503.379883    10.111364\n",
              "75%    21900.000000  20981.541504   1448.256592   2764.322021    19.107708\n",
              "max    76500.000000  69595.359375  39539.679688  39539.679688   478.142212"
            ]
          },
          "metadata": {
            "tags": []
          },
          "execution_count": 41
        }
      ]
    },
    {
      "cell_type": "code",
      "metadata": {
        "colab": {
          "base_uri": "https://localhost:8080/",
          "height": 304
        },
        "id": "CNNmLyIRhVcB",
        "outputId": "f0b1122f-9754-4b53-9bcd-9e95fe3f1fc1"
      },
      "source": [
        "res_df['ape'].hist(bins=100, range=( res_df['ape'].quantile(0.01), res_df['ape'].quantile(0.99) ))\n",
        "plt.xlabel('Absolute percentage error', fontsize=18)"
      ],
      "execution_count": 42,
      "outputs": [
        {
          "output_type": "execute_result",
          "data": {
            "text/plain": [
              "Text(0.5, 0, 'Absolute percentage error')"
            ]
          },
          "metadata": {
            "tags": []
          },
          "execution_count": 42
        },
        {
          "output_type": "display_data",
          "data": {
            "image/png": "[encoded data removed]",
            "text/plain": [
              "<Figure size 432x288 with 1 Axes>"
            ]
          },
          "metadata": {
            "tags": [],
            "needs_background": "light"
          }
        }
      ]
    },
    {
      "cell_type": "code",
      "metadata": {
        "id": "-_F3-sfgwwCJ"
      },
      "source": [
        "MODEL_SAVE_PATH = 'drive/MyDrive/models/EU_motors_data/pt/PT_test_model'"
      ],
      "execution_count": 43,
      "outputs": []
    },
    {
      "cell_type": "code",
      "metadata": {
        "id": "mR0qvtZ7kpaA"
      },
      "source": [
        "# First extract the trained model from the trainer\n",
        "pt_model = trainer.model\n",
        "\n",
        "# Then save it\n",
        "torch.save(pt_model, MODEL_SAVE_PATH)"
      ],
      "execution_count": 44,
      "outputs": []
    },
    {
      "cell_type": "code",
      "metadata": {
        "id": "y6b4j_WepVOy"
      },
      "source": [
        "model = torch.load(MODEL_SAVE_PATH)"
      ],
      "execution_count": 45,
      "outputs": []
    },
    {
      "cell_type": "markdown",
      "metadata": {
        "id": "9ImNzZ2feHb8"
      },
      "source": [
        "### Test model behavior."
      ]
    },
    {
      "cell_type": "code",
      "metadata": {
        "id": "-tS7eaH58V9f"
      },
      "source": [
        "def get_price_estimate(text, tokenizer, model, norm_const):\n",
        "\n",
        "    # Tokenize your text\n",
        "    device = 'cuda:0'\n",
        "    inputs = tokenizer(text, max_length=128,  padding='max_length', return_tensors='pt').to(device)\n",
        "\n",
        "    # Get the prediction\n",
        "    output = model(**inputs)\n",
        "    with torch.no_grad():\n",
        "        print('The predicted price is: {}'.format(output.logits.cpu().numpy()*norm_const))"
      ],
      "execution_count": 46,
      "outputs": []
    },
    {
      "cell_type": "code",
      "metadata": {
        "id": "_fb-ElsAvPGC",
        "colab": {
          "base_uri": "https://localhost:8080/"
        },
        "outputId": "81c33b70-40af-416c-ced8-4b66b68dda5f"
      },
      "source": [
        "text = ['make is renault, model is clio, vehicle_year is 2016.0, mileage is 36000.0, engine_capacity is 898.0']\n",
        "\n",
        "get_price_estimate(text, tokenizer, model, train_dataset.max_value)"
      ],
      "execution_count": 47,
      "outputs": [
        {
          "output_type": "stream",
          "text": [
            "The predicted price is: [[16104.416]]\n"
          ],
          "name": "stdout"
        }
      ]
    },
    {
      "cell_type": "code",
      "metadata": {
        "id": "6qRV7rPai4aV"
      },
      "source": [
        ""
      ],
      "execution_count": 47,
      "outputs": []
    }
  ]
}